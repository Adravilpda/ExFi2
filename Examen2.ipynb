{
 "cells": [
  {
   "cell_type": "code",
   "execution_count": 2,
   "id": "be2147a0",
   "metadata": {},
   "outputs": [
    {
     "name": "stdout",
     "output_type": "stream",
     "text": [
      "(6819, 96)\n",
      "(6819, 2)\n",
      "-------------------------\n",
      "Varianza de cada variable\n",
      "-------------------------\n",
      "[12.63900576  6.78742313]\n",
      "(6819, 96)\n",
      "(6819, 5)\n",
      "-------------------------\n",
      "Varianza de cada variable\n",
      "-------------------------\n",
      "[12.63900576  6.78742313  4.73449428  4.44105255  3.98063569]\n",
      "(6819, 96)\n",
      "(6819, 9)\n",
      "-------------------------\n",
      "Varianza de cada variable\n",
      "-------------------------\n",
      "[12.63900576  6.78742313  4.73449428  4.44105255  3.98063584  3.04214236\n",
      "  2.86649369  2.75924386  2.63571906]\n",
      "(6819, 96)\n",
      "(6819, 10)\n",
      "-------------------------\n",
      "Varianza de cada variable\n",
      "-------------------------\n",
      "[12.63900576  6.78742302  4.73448329  4.44104112  3.98062549  3.04170399\n",
      "  2.86588897  2.75607171  2.63464721  2.05682145]\n",
      "(6819, 96)\n",
      "(6819, 11)\n",
      "-------------------------\n",
      "Varianza de cada variable\n",
      "-------------------------\n",
      "[12.63900576  6.78742296  4.73448099  4.44104597  3.9805997   3.0420399\n",
      "  2.86601089  2.75822607  2.63484829  2.05939016  1.93795296]\n"
     ]
    },
    {
     "data": {
      "text/plain": [
       "Text(0, 0.5, 'PCA2')"
      ]
     },
     "execution_count": 2,
     "metadata": {},
     "output_type": "execute_result"
    },
    {
     "data": {
      "image/png": "[encoded data removed]",
      "text/plain": [
       "<Figure size 432x288 with 1 Axes>"
      ]
     },
     "metadata": {
      "needs_background": "light"
     },
     "output_type": "display_data"
    }
   ],
   "source": [
    "import pandas as pd\n",
    "import numpy as np\n",
    "import matplotlib.pyplot as plt\n",
    "import mglearn\n",
    "from sklearn import preprocessing as prep\n",
    "#A=pd.read_csv(\"AB.csv\",usecols=[1,3,5,6,7,8,9,10,11,12,13])\n",
    "A=pd.read_csv(\"data.csv\")\n",
    "#CabeceraEsp=[\"identificación_del_cliente\",\"puntaje_de_crédito\", \"género\", \"edad\", \"tenencia\", \"saldo\",\" número_de_productos\", \"tiene_tarjeta_de_crédito\", \"es_miembro_activo\", \"salario_estimado\", \"salida\"]\n",
    "#A.columns=CabeceraEsp\n",
    "#A.head()\n",
    "from sklearn.preprocessing import StandardScaler\n",
    "\n",
    "#A=pd.get_dummies(A , columns=[\"género\"], drop_first=True)\n",
    "#A.head()\n",
    "\n",
    "x=A.iloc[:,[1,2,3,4,5,6,7,8,9,10,11,12,13,14,15,16,17,18,19,20,21,22,23,24,25,26,27,28,29,30]].values\n",
    "y=A.iloc[:,0].values\n",
    "#ESTANDARIZAR LOS DATOS ANTES DE APLICAR PCA\n",
    "sc=StandardScaler()\n",
    "AE=sc.fit_transform(A)\n",
    "\n",
    "from sklearn.decomposition import PCA\n",
    "pca1=PCA(n_components=2)\n",
    "pca1.fit(AE)\n",
    "APCA3=pca1.transform(AE)\n",
    "print(AE.shape)\n",
    "print(APCA3.shape)\n",
    "\n",
    "print('-------------------------')\n",
    "print('Varianza de cada variable')\n",
    "print('-------------------------')\n",
    "print(APCA3.var(axis=0))\n",
    "\n",
    "\n",
    "\n",
    "pca1=PCA(n_components=5)\n",
    "pca1.fit(AE)\n",
    "APCA5=pca1.transform(AE)\n",
    "print(AE.shape)\n",
    "print(APCA5.shape)\n",
    "\n",
    "print('-------------------------')\n",
    "print('Varianza de cada variable')\n",
    "print('-------------------------')\n",
    "print(APCA5.var(axis=0))\n",
    "\n",
    "pca1=PCA(n_components=9)\n",
    "pca1.fit(AE)\n",
    "APCA9=pca1.transform(AE)\n",
    "print(AE.shape)\n",
    "print(APCA9.shape)\n",
    "\n",
    "print('-------------------------')\n",
    "print('Varianza de cada variable')\n",
    "print('-------------------------')\n",
    "print(APCA9.var(axis=0))\n",
    "\n",
    "pca1=PCA(n_components=10)\n",
    "pca1.fit(AE)\n",
    "APCA10=pca1.transform(AE)\n",
    "print(AE.shape)\n",
    "print(APCA10.shape)\n",
    "\n",
    "print('-------------------------')\n",
    "print('Varianza de cada variable')\n",
    "print('-------------------------')\n",
    "print(APCA10.var(axis=0))\n",
    "\n",
    "pca1=PCA(n_components=11)\n",
    "pca1.fit(AE)\n",
    "APCA11=pca1.transform(AE)\n",
    "print(AE.shape)\n",
    "print(APCA11.shape)\n",
    "\n",
    "print('-------------------------')\n",
    "print('Varianza de cada variable')\n",
    "print('-------------------------')\n",
    "print(APCA11.var(axis=0))\n",
    "\n",
    "mglearn.discrete_scatter(APCA3[:,0],APCA3[:,1],y)\n",
    "plt.legend(y,loc='best')\n",
    "plt.xlabel('PCA1')\n",
    "plt.ylabel('PCA2')"
   ]
  },
  {
   "cell_type": "code",
   "execution_count": null,
   "id": "6b3a236f",
   "metadata": {},
   "outputs": [],
   "source": []
  }
 ],
 "metadata": {
  "kernelspec": {
   "display_name": "Python 3",
   "language": "python",
   "name": "python3"
  },
  "language_info": {
   "codemirror_mode": {
    "name": "ipython",
    "version": 3
   },
   "file_extension": ".py",
   "mimetype": "text/x-python",
   "name": "python",
   "nbconvert_exporter": "python",
   "pygments_lexer": "ipython3",
   "version": "3.8.8"
  }
 },
 "nbformat": 4,
 "nbformat_minor": 5
}
